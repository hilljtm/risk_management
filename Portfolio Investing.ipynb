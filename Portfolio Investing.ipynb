{
 "cells": [
  {
   "cell_type": "markdown",
   "metadata": {},
   "source": [
    "# Calculating portfolio returns"
   ]
  },
  {
   "cell_type": "markdown",
   "metadata": {},
   "source": [
    "In order to build and backtest a portfolio, you need to have the returns of multiple assets in a single object"
   ]
  },
  {
   "cell_type": "markdown",
   "metadata": {},
   "source": [
    "Our model portfolio consists of the following companies and the weight in our portfolio represented by percentages:\n",
    "\n",
    "* Bitcoin 20%\n",
    "* Apple 12%\n",
    "* Microsoft 15%\n",
    "* Exxon Mobil 8%\n",
    "* JP Morgan 9%\n",
    "* Amazon 10%\n",
    "* Facebook 5%\n",
    "* AT&T 16%\n",
    "* Tesla 5%\n",
    "\n",
    "Note: The portfolio weights should sum up to 100% in most cases"
   ]
  },
  {
   "cell_type": "code",
   "execution_count": null,
   "metadata": {},
   "outputs": [],
   "source": [
    "# Imports\n",
    "import pandas as pd\n",
    "import numpy as np\n",
    "import matplotlib.pyplot as plt\n",
    "import scipy\n",
    "%matplotlib inline\n",
    "%config InlineBackend.figure_format='retina'\n",
    "\n",
    "btc = pd.read_csv('BTC-USD.csv', parse_dates=['Date'])\n",
    "btc = btc.sort_values(by='Date')\n",
    "btc.set_index('Date', inplace=False)\n",
    "btc['Date'] = pd.to_datetime(btc['Date']).astype(np.int64)\n",
    "\n",
    "btc.info()\n",
    "\n",
    "btc['Returns'] = btc['Adj Close'].pct_change()\n",
    "btc['Returns'].plot()\n",
    "plt.show();"
   ]
  },
  {
   "cell_type": "code",
   "execution_count": null,
   "metadata": {},
   "outputs": [],
   "source": [
    "# Define the portfolio weights as a numpy array\n",
    "#portfolio_weights = np.array([0.20, 0.12, 0.15, 0.08, 0.09, 0.10, 0.05, 0.16, 0.05])\n",
    "\n",
    "# Calculate the weighted stock returns\n",
    "#WeightedReturns = btc[:9]['Returns]'.mul(portfolio_weights)\n",
    "# Calculate the portfolio returns\n",
    "#btc['Portfolio'] = WeightedReturns.sum()\n",
    "\n",
    "# Plot cumulative portfolio returns over time\n",
    "#CumulativeReturns = ((1 + btc['Portfolio']).cumprod()-1)\n",
    "#CumulativeReturns.plot()\n",
    "#plt.show();\n",
    "\n",
    "# THIS CAN'T BE RIGHT"
   ]
  },
  {
   "cell_type": "markdown",
   "metadata": {},
   "source": [
    "# Calculate the daily returns of the adjusted close price"
   ]
  },
  {
   "cell_type": "code",
   "execution_count": null,
   "metadata": {},
   "outputs": [],
   "source": [
    "btc['Returns'] = btc['Adj Close'].pct_change()\n",
    "\n",
    "# Check first five rows\n",
    "print(btc.head())\n",
    "\n",
    "# Plot the returns column over time\n",
    "btc['Returns'].plot()\n",
    "plt.show();"
   ]
  },
  {
   "cell_type": "markdown",
   "metadata": {},
   "source": [
    "# Return Distributions\n",
    "\n",
    "In order to analyze the probability of outliers in returns, visualize the historical returns using a histogram\n",
    "\n",
    "You can use the histogram to show the historical density or frequency of a given range of returns\n",
    "\n",
    "Note: The outliers on the left tail of the return distribution are what you want to avoid, as they represent large negative daily returns. Outliers on the right hand side of the distribution are normally good events for the security"
   ]
  },
  {
   "cell_type": "code",
   "execution_count": null,
   "metadata": {},
   "outputs": [],
   "source": [
    "# Convert decimal returns into percentage returns\n",
    "percent_return = btc['Returns']*100\n",
    "\n",
    "# Drop missing values\n",
    "returns_plot = percent_return.dropna()\n",
    "\n",
    "# Plot the returns\n",
    "plt.hist(returns_plot, bins=75)\n",
    "plt.xlabel('Percentage return')\n",
    "plt.ylabel('Frequency')\n",
    "plt.show();"
   ]
  },
  {
   "cell_type": "markdown",
   "metadata": {},
   "source": [
    "## Equal weighted portfolios\n",
    "When comparing portfolios you want to consider performance versus a naive equally-weighted portfolio.\n",
    "If the portfolio doesn't outperform a simple equally weighted portfolio you might want to consider another strategy, or opt for the naive approach if all else fails.\n",
    "You can expect equally-weighted portfolios to tend to outperform the market when the largest companies are doing poorly."
   ]
  },
  {
   "cell_type": "code",
   "execution_count": null,
   "metadata": {},
   "outputs": [],
   "source": [
    "# Number of stocks in your portfolio\n",
    "numstocks = 8\n",
    "\n",
    "# Creat array of equal weights across all assests\n",
    "portfolio_weights_ew = np.repeat(1/numstocks, numstocks)\n",
    "\n",
    "# Calculate equally weighted portfolio returns\n",
    "btc['Portfolio_EW'] = btc.iloc[:, 0:numstocks].mul(portfolio_weights_ew, axis=1).sum(axis=1)\n",
    "print(btc['Portfolio_EW'])"
   ]
  },
  {
   "cell_type": "markdown",
   "metadata": {},
   "source": [
    "## Market-cap weighted portfolios\n",
    "When large companies are doing well, market cap weighted portfolios outperform due to the largest weights being assigned to the largest companies.\n",
    "\n",
    "Note: The BTC data does NOT include market cap so i'll be using arb numbers"
   ]
  },
  {
   "cell_type": "code",
   "execution_count": null,
   "metadata": {},
   "outputs": [],
   "source": [
    "# Create an array of market cap in billions\n",
    "market_capitalizations = np.array([601.51, 469.25, 349.5, 310.48, 299.77, 356.94, 268.88, 331.57])\n",
    "\n",
    "# Calculate the market cap weights\n",
    "mcap_weights = market_capitalizations / sum(market_capitalizations)\n",
    "\n",
    "# Calculate market cap weighted portfolio returns\n",
    "btc['Portfolio_Mcap'] = btc.iloc[:, 0:8].mul(mcap_weights, axis=1).sum(axis=1)\n",
    "print(btc['Portfolio_Mcap'])"
   ]
  },
  {
   "cell_type": "markdown",
   "metadata": {},
   "source": [
    "## NOTE: The 2 above methods are right in the sense of how to determine them, but the result is NOT correct"
   ]
  },
  {
   "cell_type": "markdown",
   "metadata": {},
   "source": [
    "## The correlation matrix\n",
    "The correlation matrix can be used to estimate the linear historical relationship between the returns of multiple assets.\n",
    "Correlation ranges from -1 to 1. The diagonal of the correlation matrix is always 1. The matrix is symmetric."
   ]
  },
  {
   "cell_type": "code",
   "execution_count": null,
   "metadata": {},
   "outputs": [],
   "source": [
    "# Calculate the correlation matrix\n",
    "correlation_matrix = btc.corr()\n",
    "\n",
    "# Print the matrix\n",
    "# print(correlation_matrix)"
   ]
  },
  {
   "cell_type": "markdown",
   "metadata": {},
   "source": [
    "### NOTE: The output is NOT correct. Our BTC dataframe ONLY contains bitcoin information, no other stocks or security information to see a correlation"
   ]
  },
  {
   "cell_type": "code",
   "execution_count": null,
   "metadata": {},
   "outputs": [],
   "source": [
    "import seaborn as sns\n",
    "\n",
    "sns.heatmap(correlation_matrix,\n",
    "            annot=True,\n",
    "            cmap='YlGnBu',\n",
    "            linewidths=0.3,\n",
    "            annot_kws={'size': 8})\n",
    "\n",
    "plt.xticks(rotation=90)\n",
    "plt.yticks(rotation=0)\n",
    "plt.show();\n",
    "\n",
    "# NOTE: This is the correct method to create a heatmap but our data is only BTC"
   ]
  },
  {
   "cell_type": "markdown",
   "metadata": {},
   "source": [
    "## The co-variance matrix\n",
    "The correlation matrix doesn't really tell you anything about the variance of the underlying assets, only the linear relationships between assets.\n",
    "The co-variance matrix on the other hand contains all of this information, which is useful for portfolio optimization and risk management purposes"
   ]
  },
  {
   "cell_type": "code",
   "execution_count": null,
   "metadata": {},
   "outputs": [],
   "source": [
    "# Calculate the covariance matrix\n",
    "cov_mat = btc.cov()\n",
    "\n",
    "# Annualize the co-variance matrix(number of trading days)\n",
    "cov_mat_annual = cov_mat * 365\n",
    "\n",
    "# Print annualized covariance matrix\n",
    "#print(cov_mat_annual)\n",
    "\n",
    "\n",
    "# Since the variance is the square of vol you didnt have to multiply by the square root of 365"
   ]
  },
  {
   "cell_type": "markdown",
   "metadata": {},
   "source": [
    "## Portfolio standard deviation\n",
    "\n",
    "In order to calculate portfolio volatility, you will need the covariance matrix, the portfolio weights, and knowledge of the transpose operation,\n",
    "The transpose of a numpy array can be calculated using the .T attribute. The np.dot() function is the dot product of two arrays."
   ]
  },
  {
   "cell_type": "markdown",
   "metadata": {},
   "source": [
    "NOTE: This is the correct calculation but need to import more data as BTC isn't helping with this.\n",
    "\n",
    "portfolio_volatility = np.sqrt((np.dot(portfolio_weights_ew.T, np.dot(cov_mat_annual, portfolio_weights_ew))))"
   ]
  },
  {
   "cell_type": "markdown",
   "metadata": {},
   "source": [
    "## Markowitz Portfolios\n",
    "\n",
    "* Sharpe ratio: a measure of risk-adjusted return\n",
    "* MSR: Max Sharpe Ratio portfolio\n",
    "* GMV: Global Minimum Volatility portfolio"
   ]
  },
  {
   "cell_type": "code",
   "execution_count": null,
   "metadata": {},
   "outputs": [],
   "source": [
    "numstocks = 5\n",
    "risk_free = 0\n",
    "btc['Sharpe'] = (btc['Returns']-risk_free)/btc['Volatility']\n",
    "MSR = btc.sort_values(by=['Sharpe'], ascending=False)\n",
    "MSR_weights = MSR.iloc[0,0:numstocks]\n",
    "np.array(MSR_weights)"
   ]
  }
 ],
 "metadata": {
  "kernelspec": {
   "display_name": "Python 3",
   "language": "python",
   "name": "python3"
  },
  "language_info": {
   "codemirror_mode": {
    "name": "ipython",
    "version": 3
   },
   "file_extension": ".py",
   "mimetype": "text/x-python",
   "name": "python",
   "nbconvert_exporter": "python",
   "pygments_lexer": "ipython3",
   "version": "3.7.2"
  }
 },
 "nbformat": 4,
 "nbformat_minor": 2
}
