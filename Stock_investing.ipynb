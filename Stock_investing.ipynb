{
 "cells": [
  {
   "cell_type": "markdown",
   "metadata": {},
   "source": [
    "# Calculating portfolio returns \n",
    "* This is the same exact file as portfolio investing but instead of using BTC, we have actual stock data"
   ]
  },
  {
   "cell_type": "code",
   "execution_count": 1,
   "metadata": {},
   "outputs": [
    {
     "name": "stderr",
     "output_type": "stream",
     "text": [
      "/Library/Frameworks/Python.framework/Versions/3.7/lib/python3.7/importlib/_bootstrap.py:219: RuntimeWarning: numpy.ufunc size changed, may indicate binary incompatibility. Expected 192 from C header, got 216 from PyObject\n",
      "  return f(*args, **kwds)\n",
      "/Library/Frameworks/Python.framework/Versions/3.7/lib/python3.7/importlib/_bootstrap.py:219: RuntimeWarning: numpy.ufunc size changed, may indicate binary incompatibility. Expected 192 from C header, got 216 from PyObject\n",
      "  return f(*args, **kwds)\n"
     ]
    }
   ],
   "source": [
    "# imports\n",
    "import pandas as pd\n",
    "import numpy as np\n",
    "import matplotlib.pyplot as plt\n",
    "import scipy\n",
    "import statsmodels\n",
    "%matplotlib inline\n",
    "%config InlineBackend.figure_format='retina'"
   ]
  },
  {
   "cell_type": "code",
   "execution_count": 2,
   "metadata": {},
   "outputs": [],
   "source": [
    "achc = pd.read_csv('ACHC.csv', parse_dates=['Date'])\n",
    "achc = achc.sort_values(by='Date')\n",
    "achc.set_index('Date', inplace=True)"
   ]
  },
  {
   "cell_type": "code",
   "execution_count": 3,
   "metadata": {},
   "outputs": [
    {
     "data": {
      "text/plain": [
       "Date\n",
       "2016-12-12         NaN\n",
       "2016-12-13   -0.035675\n",
       "2016-12-14   -0.037283\n",
       "2016-12-15    0.035725\n",
       "2016-12-16    0.019130\n",
       "Name: Returns, dtype: float64"
      ]
     },
     "execution_count": 3,
     "metadata": {},
     "output_type": "execute_result"
    }
   ],
   "source": [
    "# calculate daily returns\n",
    "achc['Returns'] = achc['Adj Close'].pct_change()\n",
    "achc['Returns'].head()"
   ]
  },
  {
   "cell_type": "code",
   "execution_count": 4,
   "metadata": {},
   "outputs": [
    {
     "data": {
      "image/png": "[encoded data removed]",
      "text/plain": [
       "<Figure size 432x288 with 1 Axes>"
      ]
     },
     "metadata": {
      "image/png": {
       "height": 248,
       "width": 375
      },
      "needs_background": "light"
     },
     "output_type": "display_data"
    }
   ],
   "source": [
    "# visualize returns\n",
    "plt.hist(achc['Returns'].dropna(), bins=75, density=False)\n",
    "plt.show();"
   ]
  },
  {
   "cell_type": "markdown",
   "metadata": {},
   "source": [
    "In order to build a backtest portfolio we need to have the returns of multiple assets in a single object\n",
    "\n",
    "Our model portfolio consists of the following companies and the weight in our portfolio represented by percentages:\n",
    "* Apple 12%\n",
    "* Microsoft 15%\n",
    "* Exxon Mobil 8%\n",
    "* JP Morgan 9%\n",
    "* Amazon 10%\n",
    "* Facebook 5%\n",
    "* AT&T 16%\n",
    "* Tesla 15%\n",
    "* Gold 10%"
   ]
  },
  {
   "cell_type": "code",
   "execution_count": 7,
   "metadata": {},
   "outputs": [
    {
     "name": "stdout",
     "output_type": "stream",
     "text": [
      "0.0001509405969682483\n"
     ]
    }
   ],
   "source": [
    "# calculate mean returns\n",
    "mean_return_daily = np.mean(achc['Returns'])\n",
    "print(mean_return_daily)"
   ]
  },
  {
   "cell_type": "code",
   "execution_count": 8,
   "metadata": {},
   "outputs": [
    {
     "name": "stdout",
     "output_type": "stream",
     "text": [
      "0.03876671660452513\n"
     ]
    }
   ],
   "source": [
    "# calculate implied annualized average return assuming 252 trading days in a year\n",
    "mean_return_annualized = ((1 + np.mean(achc['Returns'])) ** 252) - 1\n",
    "print(mean_return_annualized)"
   ]
  },
  {
   "cell_type": "code",
   "execution_count": 9,
   "metadata": {},
   "outputs": [
    {
     "name": "stdout",
     "output_type": "stream",
     "text": [
      "0.024976457076131005\n"
     ]
    }
   ],
   "source": [
    "# standard deviation\n",
    "sigma_daily = np.std(achc['Returns'])\n",
    "print(sigma_daily)"
   ]
  },
  {
   "cell_type": "code",
   "execution_count": 10,
   "metadata": {},
   "outputs": [
    {
     "name": "stdout",
     "output_type": "stream",
     "text": [
      "0.0006238234080758146\n"
     ]
    }
   ],
   "source": [
    "# calculate the variance, simply square the standard deviation\n",
    "variance_daily = np.std(achc['Returns']) ** 2\n",
    "print(variance_daily)"
   ]
  },
  {
   "cell_type": "code",
   "execution_count": 11,
   "metadata": {},
   "outputs": [
    {
     "name": "stdout",
     "output_type": "stream",
     "text": [
      "0.39648896432953246\n",
      "0.15720349883510526\n"
     ]
    }
   ],
   "source": [
    "# calculate annualized standard deviation\n",
    "sigma_annualized = sigma_daily * np.sqrt(252)\n",
    "print(sigma_annualized)\n",
    "\n",
    "# calculate annualized variance\n",
    "variance_annualized = sigma_annualized ** 2\n",
    "print(variance_annualized)"
   ]
  },
  {
   "cell_type": "markdown",
   "metadata": {},
   "source": [
    "## Skewness and Kurtosis"
   ]
  },
  {
   "cell_type": "code",
   "execution_count": 12,
   "metadata": {},
   "outputs": [
    {
     "name": "stdout",
     "output_type": "stream",
     "text": [
      "-1.5122829563227018\n"
     ]
    }
   ],
   "source": [
    "from scipy.stats import skew\n",
    "\n",
    "clean_returns = (achc['Returns'].dropna())\n",
    "\n",
    "# calculate the third moment(skewness) of the returns distribution\n",
    "returns_skewness = skew(clean_returns)\n",
    "print(returns_skewness)"
   ]
  },
  {
   "cell_type": "markdown",
   "metadata": {},
   "source": [
    "* YIKES\n",
    "A negative skew is a right leaning curve, and a left leaning curve is a positive skew.\n",
    "This portfolio is a wreck"
   ]
  },
  {
   "cell_type": "code",
   "execution_count": null,
   "metadata": {},
   "outputs": [],
   "source": [
    "# import kurtosis\n",
    "from scipy.stats import kurtosis\n",
    "\n",
    "# calculate the excess kurtosis of the returns distribution\n",
    "excess_kurtosis = kurtosis(clean_returns)\n",
    "print(excess_kurtosis)\n",
    "\n",
    "# derive the true fourth moment of the returns distribution\n",
    "fourth_moment = excess_kurtosis + 3\n",
    "print(fourth_moment)"
   ]
  },
  {
   "cell_type": "markdown",
   "metadata": {},
   "source": [
    "## Statistical tests for normality"
   ]
  },
  {
   "cell_type": "markdown",
   "metadata": {},
   "source": [
    "### Shapiro-Wlk test"
   ]
  },
  {
   "cell_type": "code",
   "execution_count": null,
   "metadata": {},
   "outputs": [],
   "source": [
    "# import shapiro from scipy.stats\n",
    "from scipy.stats import shapiro\n",
    "\n",
    "# run shapiro wilk test\n",
    "shapiro_results = shapiro(clean_returns)\n",
    "print('Shapiro results:', shapiro_results)\n",
    "\n",
    "# extract p_value from the shapiro results\n",
    "p_value = shapiro_results[1]\n",
    "print('P-value: ', p_value)"
   ]
  },
  {
   "cell_type": "code",
   "execution_count": null,
   "metadata": {},
   "outputs": [],
   "source": [
    "# define portoflio weights as numpy array\n",
    "RandomPortfolios = np.array([0.12, 0.15, 0.08, 0.09, 0.10, 0.05, 0.16, 0.15, 0.10])\n",
    "\n",
    "# calculate the weighted stock returns\n",
    "#WeightedReturns = achc['Returns'].mul(RandomPortfolios)\n",
    "\n",
    "# calculate the portfolio returns\n",
    "#achc['Portfolio'] = WeightedReturns.sum()\n",
    "\n",
    "# plot cumulative portfolio returns over time\n",
    "#CumulativeReturns = ((1 + achc['Portfolio']).cumprod()-1)\n",
    "#CumulativeReturns.plot()\n",
    "#plt.show();"
   ]
  },
  {
   "cell_type": "markdown",
   "metadata": {},
   "source": [
    "## Sharpe ratios\n",
    "\n",
    "The sharpe ratio is a metric of risk adjusted return.\n",
    "The ratio is useful to determine how much risk is being taken to achieve a certain level of return."
   ]
  },
  {
   "cell_type": "code",
   "execution_count": null,
   "metadata": {},
   "outputs": [],
   "source": [
    "# risk free rate\n",
    "#risk_free = 0\n",
    "\n",
    "# calculate sharpe ratio for each asset\n",
    "#RandomPortfolios['Sharpe'] = (RandomPortfolios['Returns'] - risk_free) / (RandomPortfolios['Volatility']);"
   ]
  },
  {
   "cell_type": "code",
   "execution_count": null,
   "metadata": {},
   "outputs": [],
   "source": [
    "import statsmodels.formula.api as smf \n",
    "\n",
    "# Define the regression formula\n",
    "CAPM_model = smf.ols(formula='Portfolio_Excess ~ Market_Excess', data=achc)\n",
    "\n",
    "# Fit the regression\n",
    "CAPM_fit = CAPM_model.fit()\n",
    "print(CAPM_fit.rsquared_adj)\n",
    "\n",
    "# Extract the beta\n",
    "regression_beta = CAPM_fit.params['Market_Excess']\n",
    "print(regression_beta);"
   ]
  },
  {
   "cell_type": "code",
   "execution_count": null,
   "metadata": {},
   "outputs": [],
   "source": [
    "%%capture\n",
    "# Import statsmodels.formula.api\n",
    "import statsmodels.formula.api as smf \n",
    "\n",
    "# Define the regression formula\n",
    "achc_model = smf.ols(formula='excess_kurtosis ~ Market_Excess + SMB + HML', data=achc)\n",
    "\n",
    "# Fit the regression\n",
    "FamaFrench_fit = FamaFrench_model.fit()\n",
    "\n",
    "# Extract the adjusted r-squared\n",
    "regression_adj_rsq = FamaFrench_fit.rsquared_adj\n",
    "print(regression_adj_rsq)"
   ]
  },
  {
   "cell_type": "code",
   "execution_count": null,
   "metadata": {},
   "outputs": [],
   "source": [
    "# Extract the p-value of the SMB factor\n",
    "smb_pval = FamaFrench_fit.pvalues['SMB']\n",
    "\n",
    "# If the p-value is significant, print significant\n",
    "if smb_pval < 0.05:\n",
    "    significant_msg = 'significant'\n",
    "else:\n",
    "    significant_msg = 'not significant'\n",
    "\n",
    "# Print the SMB coefficient\n",
    "smb_coeff = FamaFrench_fit.params['SMB']\n",
    "print(\"The SMB coefficient is \", smb_coeff, \" and is \", significant_msg)"
   ]
  },
  {
   "cell_type": "markdown",
   "metadata": {},
   "source": [
    "## Changing VaR and CVaR quantiles\n",
    "\n",
    "VaR quantiles often used are 90%, 95%, 99%, corresponding to the worst 10%, 5%, 1% of cases.\n",
    "These same quantiles are also often used for CVaR.\n",
    "CVaR will always be a more extreme estimate when compared with VaR for the same quantile"
   ]
  },
  {
   "cell_type": "code",
   "execution_count": 5,
   "metadata": {},
   "outputs": [
    {
     "name": "stdout",
     "output_type": "stream",
     "text": [
      "nan\n"
     ]
    },
    {
     "ename": "NameError",
     "evalue": "name 'clean_returns' is not defined",
     "output_type": "error",
     "traceback": [
      "\u001b[0;31m---------------------------------------------------------------------------\u001b[0m",
      "\u001b[0;31mNameError\u001b[0m                                 Traceback (most recent call last)",
      "\u001b[0;32m<ipython-input-5-42fd5d18be80>\u001b[0m in \u001b[0;36m<module>\u001b[0;34m\u001b[0m\n\u001b[1;32m      4\u001b[0m \u001b[0;34m\u001b[0m\u001b[0m\n\u001b[1;32m      5\u001b[0m \u001b[0;31m# Historical CVaR quantiles\u001b[0m\u001b[0;34m\u001b[0m\u001b[0;34m\u001b[0m\u001b[0;34m\u001b[0m\u001b[0m\n\u001b[0;32m----> 6\u001b[0;31m \u001b[0mcvar_90\u001b[0m \u001b[0;34m=\u001b[0m \u001b[0mclean_returns\u001b[0m\u001b[0;34m[\u001b[0m\u001b[0machc\u001b[0m\u001b[0;34m[\u001b[0m\u001b[0;34m'Returns'\u001b[0m\u001b[0;34m]\u001b[0m \u001b[0;34m<=\u001b[0m \u001b[0mvar_90\u001b[0m\u001b[0;34m]\u001b[0m\u001b[0;34m.\u001b[0m\u001b[0mmean\u001b[0m\u001b[0;34m(\u001b[0m\u001b[0;34m)\u001b[0m\u001b[0;34m\u001b[0m\u001b[0;34m\u001b[0m\u001b[0m\n\u001b[0m\u001b[1;32m      7\u001b[0m \u001b[0mprint\u001b[0m\u001b[0;34m(\u001b[0m\u001b[0mcvar_90\u001b[0m\u001b[0;34m)\u001b[0m\u001b[0;34m\u001b[0m\u001b[0;34m\u001b[0m\u001b[0m\n\u001b[1;32m      8\u001b[0m \u001b[0;34m\u001b[0m\u001b[0m\n",
      "\u001b[0;31mNameError\u001b[0m: name 'clean_returns' is not defined"
     ]
    }
   ],
   "source": [
    "# Historical VaR quantiles\n",
    "var_90 = np.percentile(achc['Returns'], 10)\n",
    "print(var_90)\n",
    "\n",
    "# Historical CVaR quantiles\n",
    "cvar_90 = clean_returns[achc['Returns'] <= var_90].mean()\n",
    "print(cvar_90)\n",
    "\n",
    "plt.hist(var_90)"
   ]
  },
  {
   "cell_type": "markdown",
   "metadata": {},
   "source": [
    "## Parametric VaR\n",
    "Value at risk can also be computer parametrically using a method known as variance/co-variance VaR.\n",
    "This method allows you to simulate a range of possibilities based on historical return distribution properties rather than actual return values."
   ]
  },
  {
   "cell_type": "code",
   "execution_count": 13,
   "metadata": {},
   "outputs": [
    {
     "name": "stdout",
     "output_type": "stream",
     "text": [
      "Mean:  0.0001509405969682483 \n",
      "Volatility:  0.024976457076131005 \n",
      "VaR(95):  -0.040931675413103615\n"
     ]
    }
   ],
   "source": [
    "from scipy.stats import norm\n",
    "\n",
    "# Estimate the average daily return\n",
    "mu = np.mean(achc['Returns'])\n",
    "\n",
    "# Estimate the daily vol\n",
    "vol = np.std(achc['Returns'])\n",
    "\n",
    "# Set the VaR confidence level\n",
    "confidence_level = 0.05\n",
    "\n",
    "# Calculate Parametric VaR\n",
    "var_95 = norm.ppf(confidence_level, mu, vol)\n",
    "\n",
    "print('Mean: ', str(mu), '\\nVolatility: ', str(vol), '\\nVaR(95): ', str(var_95))"
   ]
  },
  {
   "cell_type": "markdown",
   "metadata": {},
   "source": [
    "## Scaling risk estimates\n",
    "The VaR(95) number calculated is simply the value at risk for a single day. To estimate the VaR for a longer time horizon, scale the value by the square root of time, similar to scaling volatility"
   ]
  },
  {
   "cell_type": "code",
   "execution_count": 22,
   "metadata": {},
   "outputs": [
    {
     "data": {
      "text/plain": [
       "[<matplotlib.lines.Line2D at 0x11a72b048>,\n",
       " <matplotlib.lines.Line2D at 0x1221dad30>]"
      ]
     },
     "execution_count": 22,
     "metadata": {},
     "output_type": "execute_result"
    },
    {
     "data": {
      "image/png": "[encoded data removed]",
      "text/plain": [
       "<Figure size 432x288 with 1 Axes>"
      ]
     },
     "metadata": {
      "image/png": {
       "height": 248,
       "width": 375
      },
      "needs_background": "light"
     },
     "output_type": "display_data"
    }
   ],
   "source": [
    "# Aggregate forecasted VaR\n",
    "forecasted_values = np.empty([100, 2])\n",
    "\n",
    "# Loop through each forecast period\n",
    "for i in range(0, 100):\n",
    "    # Save the time horizon i\n",
    "    forecasted_values[i, 0] = i\n",
    "    # Save the forecasted VaR 95\n",
    "    forecasted_values[i, 1] = var_95 * np.sqrt(i + 1)\n",
    "    \n",
    "# Plot\n",
    "plt.plot(i)\n",
    "plt.plot(forecasted_values)"
   ]
  },
  {
   "cell_type": "markdown",
   "metadata": {},
   "source": [
    "## Random walk simulation\n",
    "Stochastic or random movements are used in physics to represent particle and fluid movements, in mathematics to describe fractal behavior, and in finance to describe stock market movements"
   ]
  },
  {
   "cell_type": "code",
   "execution_count": 25,
   "metadata": {},
   "outputs": [
    {
     "data": {
      "image/png": "[encoded data removed]",
      "text/plain": [
       "<Figure size 432x288 with 1 Axes>"
      ]
     },
     "metadata": {
      "image/png": {
       "height": 248,
       "width": 369
      },
      "needs_background": "light"
     },
     "output_type": "display_data"
    }
   ],
   "source": [
    "# Set simulation parameters\n",
    "mu = np.mean(achc['Returns'])\n",
    "vol = np.std(achc['Returns'])\n",
    "T = 252\n",
    "S0 = 10\n",
    "\n",
    "# Add one to the random returns\n",
    "rand_rets = np.random.normal(mu, vol, T) + 1\n",
    "\n",
    "# Forecasted random walk\n",
    "forecasted_values = S0 * rand_rets.cumprod()\n",
    "\n",
    "plt.plot(range(0, T), forecasted_values)\n",
    "plt.show()"
   ]
  },
  {
   "cell_type": "markdown",
   "metadata": {},
   "source": [
    "## Monte Carlo simulations\n",
    "Monte Carlo simulations are used to model a wide range of possibilities .\n",
    "Monte Carlos can be constructed in many different ways, but all of them involve generating a large number of random variants of a given model, allowing a wide distribution of possible paths to be analyzed. This can allow you to build a comprehensive forecast possibilities to sample from without a a large amount of historical data."
   ]
  },
  {
   "cell_type": "code",
   "execution_count": null,
   "metadata": {},
   "outputs": [],
   "source": []
  }
 ],
 "metadata": {
  "kernelspec": {
   "display_name": "Python 3",
   "language": "python",
   "name": "python3"
  },
  "language_info": {
   "codemirror_mode": {
    "name": "ipython",
    "version": 3
   },
   "file_extension": ".py",
   "mimetype": "text/x-python",
   "name": "python",
   "nbconvert_exporter": "python",
   "pygments_lexer": "ipython3",
   "version": "3.7.2"
  }
 },
 "nbformat": 4,
 "nbformat_minor": 2
}
