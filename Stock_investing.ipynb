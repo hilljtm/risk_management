{
 "cells": [
  {
   "cell_type": "markdown",
   "metadata": {},
   "source": [
    "# Calculating portfolio returns \n",
    "* This is the same exact file as portfolio investing but instead of using BTC, we have actual stock data"
   ]
  },
  {
   "cell_type": "code",
   "execution_count": null,
   "metadata": {},
   "outputs": [],
   "source": [
    "# imports\n",
    "import pandas as pd\n",
    "import numpy as np\n",
    "import matplotlib.pyplot as plt\n",
    "import scipy\n",
    "import statsmodels\n",
    "%matplotlib inline\n",
    "%config InlineBackend.figure_format='retina'"
   ]
  },
  {
   "cell_type": "code",
   "execution_count": null,
   "metadata": {},
   "outputs": [],
   "source": [
    "achc = pd.read_csv('ACHC.csv', parse_dates=['Date'])\n",
    "achc = achc.sort_values(by='Date')\n",
    "achc.set_index('Date', inplace=True)"
   ]
  },
  {
   "cell_type": "code",
   "execution_count": null,
   "metadata": {},
   "outputs": [],
   "source": [
    "# calculate daily returns\n",
    "achc['Returns'] = achc['Adj Close'].pct_change()\n",
    "achc['Returns'].head()"
   ]
  },
  {
   "cell_type": "code",
   "execution_count": null,
   "metadata": {},
   "outputs": [],
   "source": [
    "# visualize returns\n",
    "plt.hist(achc['Returns'].dropna(), bins=75, density=False)\n",
    "plt.show();"
   ]
  },
  {
   "cell_type": "markdown",
   "metadata": {},
   "source": [
    "In order to build a backtest portfolio we need to have the returns of multiple assets in a single object\n",
    "\n",
    "Our model portfolio consists of the following companies and the weight in our portfolio represented by percentages:\n",
    "* Apple 12%\n",
    "* Microsoft 15%\n",
    "* Exxon Mobil 8%\n",
    "* JP Morgan 9%\n",
    "* Amazon 10%\n",
    "* Facebook 5%\n",
    "* AT&T 16%\n",
    "* Tesla 15%\n",
    "* Gold 10%"
   ]
  },
  {
   "cell_type": "code",
   "execution_count": null,
   "metadata": {},
   "outputs": [],
   "source": [
    "# calculate mean returns\n",
    "mean_return_daily = np.mean(achc['Returns'])\n",
    "print(mean_return_daily)"
   ]
  },
  {
   "cell_type": "code",
   "execution_count": null,
   "metadata": {},
   "outputs": [],
   "source": [
    "# calculate implied annualized average return assuming 252 trading days in a year\n",
    "mean_return_annualized = ((1 + np.mean(achc['Returns'])) ** 252) - 1\n",
    "print(mean_return_annualized)"
   ]
  },
  {
   "cell_type": "code",
   "execution_count": null,
   "metadata": {},
   "outputs": [],
   "source": [
    "# standard deviation\n",
    "sigma_daily = np.std(achc['Returns'])\n",
    "print(sigma_daily)"
   ]
  },
  {
   "cell_type": "code",
   "execution_count": null,
   "metadata": {},
   "outputs": [],
   "source": [
    "# calculate the variance, simply square the standard deviation\n",
    "variance_daily = np.std(achc['Returns']) ** 2\n",
    "print(variance_daily)"
   ]
  },
  {
   "cell_type": "code",
   "execution_count": null,
   "metadata": {},
   "outputs": [],
   "source": [
    "# calculate annualized standard deviation\n",
    "sigma_annualized = sigma_daily * np.sqrt(252)\n",
    "print(sigma_annualized)\n",
    "\n",
    "# calculate annualized variance\n",
    "variance_annualized = sigma_annualized ** 2\n",
    "print(variance_annualized)"
   ]
  },
  {
   "cell_type": "markdown",
   "metadata": {},
   "source": [
    "## Skewness and Kurtosis"
   ]
  },
  {
   "cell_type": "code",
   "execution_count": null,
   "metadata": {},
   "outputs": [],
   "source": [
    "from scipy.stats import skew\n",
    "\n",
    "clean_returns = (achc['Returns'].dropna())\n",
    "\n",
    "# calculate the third moment(skewness) of the returns distribution\n",
    "returns_skewness = skew(clean_returns)\n",
    "print(returns_skewness)"
   ]
  },
  {
   "cell_type": "markdown",
   "metadata": {},
   "source": [
    "* YIKES\n",
    "A negative skew is a right leaning curve, and a left leaning curve is a positive skew.\n",
    "This portfolio is a wreck"
   ]
  },
  {
   "cell_type": "code",
   "execution_count": null,
   "metadata": {},
   "outputs": [],
   "source": [
    "# import kurtosis\n",
    "from scipy.stats import kurtosis\n",
    "\n",
    "# calculate the excess kurtosis of the returns distribution\n",
    "excess_kurtosis = kurtosis(clean_returns)\n",
    "print(excess_kurtosis)\n",
    "\n",
    "# derive the true fourth moment of the returns distribution\n",
    "fourth_moment = excess_kurtosis + 3\n",
    "print(fourth_moment)"
   ]
  },
  {
   "cell_type": "markdown",
   "metadata": {},
   "source": [
    "## Statistical tests for normality"
   ]
  },
  {
   "cell_type": "markdown",
   "metadata": {},
   "source": [
    "### Shapiro-Wlk test"
   ]
  },
  {
   "cell_type": "code",
   "execution_count": null,
   "metadata": {},
   "outputs": [],
   "source": [
    "# import shapiro from scipy.stats\n",
    "from scipy.stats import shapiro\n",
    "\n",
    "# run shapiro wilk test\n",
    "shapiro_results = shapiro(clean_returns)\n",
    "print('Shapiro results:', shapiro_results)\n",
    "\n",
    "# extract p_value from the shapiro results\n",
    "p_value = shapiro_results[1]\n",
    "print('P-value: ', p_value)"
   ]
  },
  {
   "cell_type": "code",
   "execution_count": null,
   "metadata": {},
   "outputs": [],
   "source": [
    "# define portoflio weights as numpy array\n",
    "RandomPortfolios = np.array([0.12, 0.15, 0.08, 0.09, 0.10, 0.05, 0.16, 0.15, 0.10])\n",
    "\n",
    "# calculate the weighted stock returns\n",
    "#WeightedReturns = achc['Returns'].mul(RandomPortfolios)\n",
    "\n",
    "# calculate the portfolio returns\n",
    "#achc['Portfolio'] = WeightedReturns.sum()\n",
    "\n",
    "# plot cumulative portfolio returns over time\n",
    "#CumulativeReturns = ((1 + achc['Portfolio']).cumprod()-1)\n",
    "#CumulativeReturns.plot()\n",
    "#plt.show();"
   ]
  },
  {
   "cell_type": "markdown",
   "metadata": {},
   "source": [
    "## Sharpe ratios\n",
    "\n",
    "The sharpe ratio is a metric of risk adjusted return.\n",
    "The ratio is useful to determine how much risk is being taken to achieve a certain level of return."
   ]
  },
  {
   "cell_type": "code",
   "execution_count": null,
   "metadata": {},
   "outputs": [],
   "source": [
    "# risk free rate\n",
    "#risk_free = 0\n",
    "\n",
    "# calculate sharpe ratio for each asset\n",
    "#RandomPortfolios['Sharpe'] = (RandomPortfolios['Returns'] - risk_free) / (RandomPortfolios['Volatility']);"
   ]
  },
  {
   "cell_type": "code",
   "execution_count": null,
   "metadata": {},
   "outputs": [],
   "source": [
    "import statsmodels.formula.api as smf \n",
    "\n",
    "# Define the regression formula\n",
    "CAPM_model = smf.ols(formula='Portfolio_Excess ~ Market_Excess', data=achc)\n",
    "\n",
    "# Fit the regression\n",
    "CAPM_fit = CAPM_model.fit()\n",
    "print(CAPM_fit.rsquared_adj)\n",
    "\n",
    "# Extract the beta\n",
    "regression_beta = CAPM_fit.params['Market_Excess']\n",
    "print(regression_beta);"
   ]
  },
  {
   "cell_type": "code",
   "execution_count": null,
   "metadata": {},
   "outputs": [],
   "source": [
    "%%capture\n",
    "# Import statsmodels.formula.api\n",
    "import statsmodels.formula.api as smf \n",
    "\n",
    "# Define the regression formula\n",
    "achc_model = smf.ols(formula='excess_kurtosis ~ Market_Excess + SMB + HML', data=achc)\n",
    "\n",
    "# Fit the regression\n",
    "FamaFrench_fit = FamaFrench_model.fit()\n",
    "\n",
    "# Extract the adjusted r-squared\n",
    "regression_adj_rsq = FamaFrench_fit.rsquared_adj\n",
    "print(regression_adj_rsq)"
   ]
  },
  {
   "cell_type": "code",
   "execution_count": null,
   "metadata": {},
   "outputs": [],
   "source": [
    "# Extract the p-value of the SMB factor\n",
    "smb_pval = FamaFrench_fit.pvalues['SMB']\n",
    "\n",
    "# If the p-value is significant, print significant\n",
    "if smb_pval < 0.05:\n",
    "    significant_msg = 'significant'\n",
    "else:\n",
    "    significant_msg = 'not significant'\n",
    "\n",
    "# Print the SMB coefficient\n",
    "smb_coeff = FamaFrench_fit.params['SMB']\n",
    "print(\"The SMB coefficient is \", smb_coeff, \" and is \", significant_msg)"
   ]
  },
  {
   "cell_type": "code",
   "execution_count": null,
   "metadata": {},
   "outputs": [],
   "source": []
  }
 ],
 "metadata": {
  "kernelspec": {
   "display_name": "Python 3",
   "language": "python",
   "name": "python3"
  },
  "language_info": {
   "codemirror_mode": {
    "name": "ipython",
    "version": 3
   },
   "file_extension": ".py",
   "mimetype": "text/x-python",
   "name": "python",
   "nbconvert_exporter": "python",
   "pygments_lexer": "ipython3",
   "version": "3.7.2"
  }
 },
 "nbformat": 4,
 "nbformat_minor": 2
}
