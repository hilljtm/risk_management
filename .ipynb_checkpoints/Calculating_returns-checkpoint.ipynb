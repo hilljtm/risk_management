{
 "cells": [
  {
   "cell_type": "markdown",
   "metadata": {},
   "source": [
    "# Financial Returns"
   ]
  },
  {
   "cell_type": "markdown",
   "metadata": {},
   "source": [
    "#### Overview:\n",
    "\n",
    "Learn how to analyze investment return distributions, build portfolios and reduce risk, identify key factors which are driving portfolio returns\n",
    "\n",
    "* Univariate Investment Risk\n",
    "* Portfolio Investing\n",
    "* Factor Investing\n",
    "* Forecasting and Reducing Risk"
   ]
  },
  {
   "cell_type": "markdown",
   "metadata": {},
   "source": [
    "#### How do you typically measure risk?\n",
    "\n",
    "* Standard deviation or variance of daily returns\n",
    "* Kurtosis of the daily returns distribution\n",
    "* Skewness of the daily returns distribution\n",
    "* Historical drawdowns"
   ]
  },
  {
   "cell_type": "markdown",
   "metadata": {},
   "source": [
    "* Discrete returns (simple returns) are most commonly used, and represent <b> periodic (e.g daily, weekly, monthly) price movements</b>\n",
    "\n",
    "* Log returns: often used in academic research and financial modelings. They assume continuous compounding\n",
    "\n"
   ]
  },
  {
   "cell_type": "markdown",
   "metadata": {},
   "source": [
    "* Discrete returns are calculated as the change in price as a percentage of the previous period's price\n",
    "\n",
    "### Calculating log returns: \n",
    "* calculated as the difference between the log of two prices\n",
    "* Log returns aggregate across time, while discrete returns aggregate across assets\n",
    "\n"
   ]
  },
  {
   "cell_type": "code",
   "execution_count": 1,
   "metadata": {},
   "outputs": [
    {
     "data": {
      "text/html": [
       "<div>\n",
       "<style scoped>\n",
       "    .dataframe tbody tr th:only-of-type {\n",
       "        vertical-align: middle;\n",
       "    }\n",
       "\n",
       "    .dataframe tbody tr th {\n",
       "        vertical-align: top;\n",
       "    }\n",
       "\n",
       "    .dataframe thead th {\n",
       "        text-align: right;\n",
       "    }\n",
       "</style>\n",
       "<table border=\"1\" class=\"dataframe\">\n",
       "  <thead>\n",
       "    <tr style=\"text-align: right;\">\n",
       "      <th></th>\n",
       "      <th>Open</th>\n",
       "      <th>High</th>\n",
       "      <th>Low</th>\n",
       "      <th>Close</th>\n",
       "      <th>Adj Close</th>\n",
       "      <th>Volume</th>\n",
       "    </tr>\n",
       "    <tr>\n",
       "      <th>Date</th>\n",
       "      <th></th>\n",
       "      <th></th>\n",
       "      <th></th>\n",
       "      <th></th>\n",
       "      <th></th>\n",
       "      <th></th>\n",
       "    </tr>\n",
       "  </thead>\n",
       "  <tbody>\n",
       "    <tr>\n",
       "      <th>2018-12-02</th>\n",
       "      <td>4200.733398</td>\n",
       "      <td>4301.519531</td>\n",
       "      <td>4110.978516</td>\n",
       "      <td>4139.877930</td>\n",
       "      <td>4139.877930</td>\n",
       "      <td>5262697895</td>\n",
       "    </tr>\n",
       "    <tr>\n",
       "      <th>2018-12-03</th>\n",
       "      <td>4147.323730</td>\n",
       "      <td>4155.979492</td>\n",
       "      <td>3840.446289</td>\n",
       "      <td>3894.130859</td>\n",
       "      <td>3894.130859</td>\n",
       "      <td>5089570993</td>\n",
       "    </tr>\n",
       "    <tr>\n",
       "      <th>2018-12-04</th>\n",
       "      <td>3886.294922</td>\n",
       "      <td>4075.627686</td>\n",
       "      <td>3832.750000</td>\n",
       "      <td>3956.893799</td>\n",
       "      <td>3956.893799</td>\n",
       "      <td>5028069239</td>\n",
       "    </tr>\n",
       "    <tr>\n",
       "      <th>2018-12-05</th>\n",
       "      <td>3958.894775</td>\n",
       "      <td>3969.535889</td>\n",
       "      <td>3753.994873</td>\n",
       "      <td>3753.994873</td>\n",
       "      <td>3753.994873</td>\n",
       "      <td>5302481573</td>\n",
       "    </tr>\n",
       "    <tr>\n",
       "      <th>2018-12-06</th>\n",
       "      <td>3754.074463</td>\n",
       "      <td>3874.966064</td>\n",
       "      <td>3521.101807</td>\n",
       "      <td>3521.101807</td>\n",
       "      <td>3521.101807</td>\n",
       "      <td>5878333109</td>\n",
       "    </tr>\n",
       "  </tbody>\n",
       "</table>\n",
       "</div>"
      ],
      "text/plain": [
       "                   Open         High          Low        Close    Adj Close  \\\n",
       "Date                                                                          \n",
       "2018-12-02  4200.733398  4301.519531  4110.978516  4139.877930  4139.877930   \n",
       "2018-12-03  4147.323730  4155.979492  3840.446289  3894.130859  3894.130859   \n",
       "2018-12-04  3886.294922  4075.627686  3832.750000  3956.893799  3956.893799   \n",
       "2018-12-05  3958.894775  3969.535889  3753.994873  3753.994873  3753.994873   \n",
       "2018-12-06  3754.074463  3874.966064  3521.101807  3521.101807  3521.101807   \n",
       "\n",
       "                Volume  \n",
       "Date                    \n",
       "2018-12-02  5262697895  \n",
       "2018-12-03  5089570993  \n",
       "2018-12-04  5028069239  \n",
       "2018-12-05  5302481573  \n",
       "2018-12-06  5878333109  "
      ]
     },
     "execution_count": 1,
     "metadata": {},
     "output_type": "execute_result"
    }
   ],
   "source": [
    "import pandas as pd\n",
    "import numpy as np\n",
    "import matplotlib.pyplot as plt\n",
    "import scipy\n",
    "%matplotlib inline\n",
    "\n",
    "btc = pd.read_csv('BTC-USD.csv', parse_dates=['Date'])\n",
    "btc = btc.sort_values(by='Date')\n",
    "btc.set_index('Date', inplace=True)\n",
    "\n",
    "btc.head(5)"
   ]
  },
  {
   "cell_type": "code",
   "execution_count": 2,
   "metadata": {},
   "outputs": [
    {
     "data": {
      "text/plain": [
       "Date\n",
       "2018-12-02         NaN\n",
       "2018-12-03   -0.059361\n",
       "2018-12-04    0.016117\n",
       "2018-12-05   -0.051277\n",
       "2018-12-06   -0.062039\n",
       "Name: Returns, dtype: float64"
      ]
     },
     "execution_count": 2,
     "metadata": {},
     "output_type": "execute_result"
    }
   ],
   "source": [
    "btc['Returns'] = btc['Adj Close'].pct_change()\n",
    "btc['Returns'].head()"
   ]
  },
  {
   "cell_type": "code",
   "execution_count": 3,
   "metadata": {},
   "outputs": [
    {
     "data": {
      "image/png": "[encoded data removed]",
      "text/plain": [
       "<Figure size 432x288 with 1 Axes>"
      ]
     },
     "metadata": {
      "needs_background": "light"
     },
     "output_type": "display_data"
    }
   ],
   "source": [
    "import matplotlib.pyplot as plt\n",
    "plt.hist(btc['Returns'].dropna(), bins=75, density=False)\n",
    "plt.show();"
   ]
  },
  {
   "cell_type": "markdown",
   "metadata": {},
   "source": [
    "## Moments of Distributions\n",
    "\n",
    "Probability distributions have the following moments\n",
    "* Mean\n",
    "* Variance\n",
    "* Skewness\n",
    "* Kurtosis"
   ]
  },
  {
   "cell_type": "markdown",
   "metadata": {},
   "source": [
    "## The Normal Distribution\n",
    "A random variable with a Gaussian distribution is said to be normally distributed\n",
    "\n",
    "#### Normal Distributions have the following properties:\n",
    "\n",
    "* Mean\n",
    "* Variance squared\n",
    "* Skewness = 0\n",
    "* Kurtosis = 3"
   ]
  },
  {
   "cell_type": "markdown",
   "metadata": {},
   "source": [
    "The standard normal is a special case of the Normal Distribution when\n",
    "* Variance = 1\n",
    "* Mean = 0"
   ]
  },
  {
   "cell_type": "markdown",
   "metadata": {},
   "source": [
    "#### Comparing Against a Normal Distribution\n",
    "\n",
    "* Normal distributions have a skewness near 0 and a kurtosis near 3\n",
    "* Financial returns tend not to be normally distributed\n",
    "* Financial returns can have high kurtosis"
   ]
  },
  {
   "cell_type": "code",
   "execution_count": 4,
   "metadata": {},
   "outputs": [
    {
     "data": {
      "text/plain": [
       "0.0022509891071344286"
      ]
     },
     "execution_count": 4,
     "metadata": {},
     "output_type": "execute_result"
    }
   ],
   "source": [
    "# Calculating mean returns\n",
    "import numpy as np\n",
    "np.mean(btc['Returns'])"
   ]
  },
  {
   "cell_type": "code",
   "execution_count": 5,
   "metadata": {},
   "outputs": [
    {
     "data": {
      "text/plain": [
       "1.2720617762056912"
      ]
     },
     "execution_count": 5,
     "metadata": {},
     "output_type": "execute_result"
    }
   ],
   "source": [
    "# Calculate the average annualized return assuming 365 trading days in a year\n",
    "((1 + np.mean(btc['Returns']))**365)-1"
   ]
  },
  {
   "cell_type": "markdown",
   "metadata": {},
   "source": [
    "#### Standard deviation and Variance\n",
    "\n",
    "Standard deviation(volatility) : measures the dispersion of returns"
   ]
  },
  {
   "cell_type": "code",
   "execution_count": 6,
   "metadata": {},
   "outputs": [
    {
     "data": {
      "text/plain": [
       "0.03716129149794761"
      ]
     },
     "execution_count": 6,
     "metadata": {},
     "output_type": "execute_result"
    }
   ],
   "source": [
    "# Standard deviation\n",
    "np.std(btc['Returns'])"
   ]
  },
  {
   "cell_type": "code",
   "execution_count": 7,
   "metadata": {},
   "outputs": [
    {
     "data": {
      "text/plain": [
       "0.0013809615857954334"
      ]
     },
     "execution_count": 7,
     "metadata": {},
     "output_type": "execute_result"
    }
   ],
   "source": [
    "# To calculate the variance, square the standard deviation\n",
    "np.std(btc['Returns'])**2"
   ]
  },
  {
   "cell_type": "markdown",
   "metadata": {},
   "source": [
    "## Scaling volatility\n",
    "\n",
    "* Volatility scales with the square root of time\n",
    "* Crypto is 365 days a year, 24/7"
   ]
  },
  {
   "cell_type": "code",
   "execution_count": 8,
   "metadata": {},
   "outputs": [
    {
     "data": {
      "text/plain": [
       "0.7099654771996545"
      ]
     },
     "execution_count": 8,
     "metadata": {},
     "output_type": "execute_result"
    }
   ],
   "source": [
    "# Scaling volatility \n",
    "np.std(btc['Returns']) * np.sqrt(365)"
   ]
  },
  {
   "cell_type": "markdown",
   "metadata": {},
   "source": [
    "## Skewness\n",
    "\n",
    "Skewness is the third moment of a distribution\n",
    "\n",
    "* Negative Skew: The mass of the distribution is concentrated on the right, Usually a right leaning curve\n",
    "\n",
    "* Positive Skew: The mass of the distribution is concentrated on the left, Usually a left leaning curve\n",
    "\n",
    "In finance you tend to want a positive skewness"
   ]
  },
  {
   "cell_type": "code",
   "execution_count": 9,
   "metadata": {},
   "outputs": [
    {
     "data": {
      "text/plain": [
       "0.497179168010133"
      ]
     },
     "execution_count": 9,
     "metadata": {},
     "output_type": "execute_result"
    }
   ],
   "source": [
    "from scipy.stats import skew\n",
    "skew(btc['Returns'].dropna())"
   ]
  },
  {
   "cell_type": "code",
   "execution_count": 10,
   "metadata": {},
   "outputs": [
    {
     "name": "stdout",
     "output_type": "stream",
     "text": [
      "0.497179168010133\n"
     ]
    }
   ],
   "source": [
    "from scipy.stats import skew\n",
    "\n",
    "clean_returns = (btc['Returns'].dropna())\n",
    "\n",
    "returns_skewness = skew(clean_returns)\n",
    "print(returns_skewness)"
   ]
  },
  {
   "cell_type": "markdown",
   "metadata": {},
   "source": [
    "## Kurtosis\n",
    "Kurtosis is a measure of the thickness of the tails of a distribution\n",
    "\n",
    "* Most financial returns are leptokurtic\n",
    "\n",
    "* Leptokurtic: When a distribution has positive excess kurtosis ( kurtosis greater than 3)\n",
    "\n",
    "* Excess kurtosis: Subtract 3 from the sample kurtosis to calculate ('Excess Kurtosis')"
   ]
  },
  {
   "cell_type": "code",
   "execution_count": 11,
   "metadata": {},
   "outputs": [
    {
     "data": {
      "text/plain": [
       "3.7195195481500978"
      ]
     },
     "execution_count": 11,
     "metadata": {},
     "output_type": "execute_result"
    }
   ],
   "source": [
    "# Excess kurtosis\n",
    "from scipy.stats import kurtosis\n",
    "kurtosis(btc['Returns'].dropna())"
   ]
  },
  {
   "cell_type": "code",
   "execution_count": 12,
   "metadata": {},
   "outputs": [
    {
     "name": "stdout",
     "output_type": "stream",
     "text": [
      "3.7195195481500978\n",
      "6.719519548150098\n"
     ]
    }
   ],
   "source": [
    "excess_kurtosis = kurtosis(clean_returns)\n",
    "print(excess_kurtosis)\n",
    "\n",
    "fourth_moment = excess_kurtosis + 3\n",
    "print(fourth_moment)"
   ]
  },
  {
   "cell_type": "markdown",
   "metadata": {},
   "source": [
    "## Testing for Normality\n",
    "\n",
    "The null hypothesis of the Shapiro-Wilk test is that the data are normally distributed\n",
    "\n",
    "The shapiro() function will return two values in a list\n",
    "* First value is the t-stat of the test\n",
    "* Second value is the p-value\n",
    "You can use the p-value to make a judgement about the normality of the data\n",
    "* If the p-value is less than or equal to 0.05, you can safely reject the null hypothesis of normality and assume that the data are non-normally distributed"
   ]
  },
  {
   "cell_type": "code",
   "execution_count": 13,
   "metadata": {},
   "outputs": [
    {
     "name": "stdout",
     "output_type": "stream",
     "text": [
      "Shapiro results: (0.9264898300170898, 2.178142432043839e-12)\n",
      "P-values:  2.178142432043839e-12\n"
     ]
    }
   ],
   "source": [
    "from scipy.stats import shapiro\n",
    "\n",
    "# Shapiro-Wilk test\n",
    "shapiro_results = shapiro(clean_returns)\n",
    "print('Shapiro results:', shapiro_results)\n",
    "\n",
    "# Extract p-values \n",
    "p_value = shapiro_results[1]\n",
    "print('P-values: ', p_value)"
   ]
  },
  {
   "cell_type": "code",
   "execution_count": 14,
   "metadata": {},
   "outputs": [
    {
     "name": "stdout",
     "output_type": "stream",
     "text": [
      "Null hypothesis of normality is rejected\n"
     ]
    }
   ],
   "source": [
    "from scipy import stats\n",
    "p_value = stats.shapiro(btc['Returns'].dropna())[1]\n",
    "if p_value <= 0.05:\n",
    "    print('Null hypothesis of normality is rejected')\n",
    "else: \n",
    "    print('Null hypothesis of normality is accepted')"
   ]
  }
 ],
 "metadata": {
  "kernelspec": {
   "display_name": "Python 3",
   "language": "python",
   "name": "python3"
  },
  "language_info": {
   "codemirror_mode": {
    "name": "ipython",
    "version": 3
   },
   "file_extension": ".py",
   "mimetype": "text/x-python",
   "name": "python",
   "nbconvert_exporter": "python",
   "pygments_lexer": "ipython3",
   "version": "3.7.2"
  }
 },
 "nbformat": 4,
 "nbformat_minor": 2
}
